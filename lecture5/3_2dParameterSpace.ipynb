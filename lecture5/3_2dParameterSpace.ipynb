{
 "cells": [
  {
   "cell_type": "markdown",
   "metadata": {},
   "source": [
    "## Curve-fitting\n",
    "\n",
    "\n",
    "* Let's create a simulated observation of a stellar spectrum\n",
    "* It is a Planck function (blackbody) with unknown temperature and unknown distance from us\n",
    "* The flux we observe at a given wavelength is proportional to $B_\\lambda(T) / (4 \\pi d^2)$\n",
    "* We will create some fake data for a model with $T = 3000$ K, $d = 1$ (arbitrary units)"
   ]
  },
  {
   "cell_type": "code",
   "execution_count": null,
   "metadata": {
    "collapsed": false
   },
   "outputs": [],
   "source": [
    "import numpy as np\n",
    "import matplotlib.pyplot as plt\n",
    "h = 6.626e-34\n",
    "c = 3.0e+8\n",
    "k = 1.38e-23\n",
    "\n",
    "def planck(wav, T):\n",
    "    a = 2.0*h*c**2\n",
    "    b = h*c/(wav*k*T)\n",
    "    intensity = a/ ( (wav**5) * (np.exp(b) - 1.0) )\n",
    "    return intensity\n"
   ]
  },
  {
   "cell_type": "code",
   "execution_count": null,
   "metadata": {
    "collapsed": false
   },
   "outputs": [],
   "source": [
    "Temperature = 3000 # kelvin\n",
    "distance = 1 # the units don't matter for this example -- point is that flux is proportional to 1/distance**2\n",
    "wavelengthVals = np.linspace(1e-10,1e-5,1000)\n",
    "\n",
    "theoryCurve = planck(wavelengthVals, Temperature) / distance**2"
   ]
  },
  {
   "cell_type": "code",
   "execution_count": null,
   "metadata": {
    "collapsed": false
   },
   "outputs": [],
   "source": [
    "%pylab inline\n",
    "plt.figure(figsize = (8,8))\n",
    "plt.plot(wavelengthVals, theoryCurve)\n",
    "plt.xlabel('wavelength (m)')\n",
    "plt.show()"
   ]
  },
  {
   "cell_type": "markdown",
   "metadata": {},
   "source": [
    "* Now we make the fake data \n",
    "* 30 data points with a fair amount of noise"
   ]
  },
  {
   "cell_type": "code",
   "execution_count": null,
   "metadata": {
    "collapsed": false
   },
   "outputs": [],
   "source": [
    "\n",
    "nDataPts = 30\n",
    "noiseRMS = .8e12\n",
    "spectrumLambdaVals   = np.linspace(1e-10,.4e-5,nDataPts)\n",
    "\n",
    "#evalute theory curve and add Gaussian noise.\n",
    "spectrumFluxVals = planck(spectrumLambdaVals, Temperature) / distance**2 + noiseRMS * random.randn(nDataPts)\n",
    "\n",
    "\n",
    "\n"
   ]
  },
  {
   "cell_type": "markdown",
   "metadata": {},
   "source": [
    "Let's plot our data on its own"
   ]
  },
  {
   "cell_type": "code",
   "execution_count": null,
   "metadata": {
    "collapsed": false
   },
   "outputs": [],
   "source": [
    "figure(figsize = (10,10))\n",
    "clf()\n",
    "errorbar(spectrumLambdaVals, spectrumFluxVals, noiseRMS, fmt = 'o')\n",
    "xlabel('wavelength (m)')"
   ]
  },
  {
   "cell_type": "markdown",
   "metadata": {},
   "source": [
    "We could set up a chi-square statistic and find the minimum... but let's find values of chi-square on a grid of points in the 2d space of temperature and distance.\n",
    "\n",
    "First we generate a grid of theory curves, one for each combination of $d$ and $T$"
   ]
  },
  {
   "cell_type": "code",
   "execution_count": null,
   "metadata": {
    "collapsed": false
   },
   "outputs": [],
   "source": [
    "\n",
    "\n",
    "\n",
    "nTempVals = 60\n",
    "nDistVals = 50\n",
    "temperatures = linspace(2e3, 4e3, nTempVals)\n",
    "theoryGrid = numpy.zeros((nTempVals, nDistVals, nDataPts))\n",
    "distances = linspace(1e-2, 2., nDistVals)\n",
    "\n",
    "for i in arange(nTempVals):\n",
    "    for j in arange(nDistVals):\n",
    "        theoryGrid[i, j, :] = planck(spectrumLambdaVals, temperatures[i]) / distances[j]**2\n",
    "        \n",
    "        \n",
    "        \n",
    "        "
   ]
  },
  {
   "cell_type": "markdown",
   "metadata": {},
   "source": [
    "Now plot all our theory cuves, together with the data.  Most of them will not be good fits"
   ]
  },
  {
   "cell_type": "code",
   "execution_count": null,
   "metadata": {
    "collapsed": false
   },
   "outputs": [],
   "source": [
    "figure(figsize = (8,8))\n",
    "clf()\n",
    "\n",
    "\n",
    "for i in arange(nTempVals):\n",
    "    for j in arange(nDistVals):\n",
    "        plot(spectrumLambdaVals, theoryGrid[i,j,:], color = '%f' %(i / float(nTempVals)))\n",
    "errorbar(spectrumLambdaVals, spectrumFluxVals, noiseRMS, fmt = 'o')\n",
    "        \n",
    "ylim(-1e12,3e12)"
   ]
  },
  {
   "cell_type": "markdown",
   "metadata": {},
   "source": [
    "Now we will compute $\\chi^2$ at each point in the 2d space."
   ]
  },
  {
   "cell_type": "code",
   "execution_count": null,
   "metadata": {
    "collapsed": false
   },
   "outputs": [],
   "source": [
    "chi2grid = numpy.zeros((nTempVals, nDistVals))\n",
    "for i in arange(nTempVals):\n",
    "    for j in arange(nDistVals):\n",
    "        chi2grid[i, j] = (((spectrumFluxVals - theoryGrid[i,j,:]) / noiseRMS)**2).sum()"
   ]
  },
  {
   "cell_type": "code",
   "execution_count": null,
   "metadata": {
    "collapsed": false
   },
   "outputs": [],
   "source": [
    "figure(figsize = (8,8))\n",
    "imshow(((log10(chi2grid))), cmap = 'Blues', interpolation = 'nearest')#, \\\n",
    "#       extent = [temperatures.min(), temperatures.max(), distances.min(), distances.max()],aspect=1)\n",
    "clim(0,2)\n",
    "colorbar()\n",
    "\n",
    "\n",
    "#gca().xaxis.set_ticks( arange(temperatures.min(), temperatures.max(), 10))\n",
    "#gca().yaxis.set_ticks( arange(distances.min(), distances.max(), (distances.max() - distances.min()) / 10))\n",
    "\n",
    "\n",
    "title('chi-square values')"
   ]
  },
  {
   "cell_type": "markdown",
   "metadata": {},
   "source": [
    "A plot with all curves for which chi2 changes by 9"
   ]
  },
  {
   "cell_type": "code",
   "execution_count": null,
   "metadata": {
    "collapsed": false
   },
   "outputs": [],
   "source": [
    "figure(figsize = (8,8))\n",
    "clf()\n",
    "\n",
    "\n",
    "for i in arange(nTempVals):\n",
    "    for j in arange(nDistVals):\n",
    "        if abs(chi2grid[i,j] - chi2grid.min() ) < 9:\n",
    "            plot(spectrumLambdaVals, theoryGrid[i,j,:], color = 'k')\n",
    "\n",
    "        \n",
    "errorbar(spectrumLambdaVals, spectrumFluxVals, noiseRMS, fmt = 'o')\n",
    "        \n",
    "ylim(0,1.2e12)"
   ]
  },
  {
   "cell_type": "markdown",
   "metadata": {},
   "source": [
    "Now we find the best-fitting temperature and distance"
   ]
  },
  {
   "cell_type": "code",
   "execution_count": null,
   "metadata": {
    "collapsed": false
   },
   "outputs": [],
   "source": [
    "bestfit = unravel_index(argmin(chi2grid), chi2grid.shape)\n"
   ]
  },
  {
   "cell_type": "code",
   "execution_count": null,
   "metadata": {
    "collapsed": false
   },
   "outputs": [],
   "source": [
    "\n",
    "bestfit"
   ]
  },
  {
   "cell_type": "code",
   "execution_count": null,
   "metadata": {
    "collapsed": false
   },
   "outputs": [],
   "source": [
    "temperatures[bestfit[0]], distances[bestfit[1]]"
   ]
  },
  {
   "cell_type": "markdown",
   "metadata": {},
   "source": [
    "This doesn't mean much without errors on the parameters -- let's find these."
   ]
  },
  {
   "cell_type": "code",
   "execution_count": null,
   "metadata": {
    "collapsed": true
   },
   "outputs": [],
   "source": [
    "probability = exp(- 2 * (chi2grid - chi2grid.min()))\n",
    "probability /= sum(probability)"
   ]
  },
  {
   "cell_type": "code",
   "execution_count": null,
   "metadata": {
    "collapsed": false
   },
   "outputs": [],
   "source": [
    "\n",
    "oneDtemp = sum(probability, axis = 1)\n",
    "\n",
    "plot(temperatures, oneDtemp)\n",
    "axvline(Temperature, ls = ':')\n"
   ]
  },
  {
   "cell_type": "code",
   "execution_count": null,
   "metadata": {
    "collapsed": false
   },
   "outputs": [],
   "source": [
    "\n",
    "oneDdistance = sum(probability, axis = 0)\n",
    "\n",
    "plot(distances, oneDdistance)\n",
    "axvline(distance, ls = ':')\n"
   ]
  },
  {
   "cell_type": "code",
   "execution_count": null,
   "metadata": {
    "collapsed": false
   },
   "outputs": [],
   "source": [
    "figure(figsize = (8,8))\n",
    "imshow(probability,cmap='Reds', interpolation = 'nearest')\n",
    "colorbar()"
   ]
  },
  {
   "cell_type": "code",
   "execution_count": null,
   "metadata": {
    "collapsed": false
   },
   "outputs": [],
   "source": [
    "nps = 500\n",
    "prob_vector = linspace(0,1,nps)\n",
    "area = zeros(nps)\n",
    "for i in arange(nps):\n",
    "    ppixs = where(probability >= prob_vector[i])\n",
    "    area[i] = (probability[ppixs]).sum()\n",
    "  \n",
    "import scipy.interpolate\n",
    "area68 = (scipy.interpolate.interp1d(area, prob_vector))(.68)\n",
    "area95 = (scipy.interpolate.interp1d(area, prob_vector))(.95)\n",
    "\n",
    "area99 = (scipy.interpolate.interp1d(area, prob_vector))(.997)"
   ]
  },
  {
   "cell_type": "code",
   "execution_count": null,
   "metadata": {
    "collapsed": false
   },
   "outputs": [],
   "source": [
    "print area68, area95\n"
   ]
  },
  {
   "cell_type": "code",
   "execution_count": null,
   "metadata": {
    "collapsed": false
   },
   "outputs": [],
   "source": [
    "\n",
    "figure(figsize = (8,8))\n",
    "t, d = np.meshgrid(distances, temperatures)\n",
    "\n",
    "contour(t, d, probability, [area99,area95, area68])\n",
    "scatter([distance], [Temperature])\n",
    "xlabel('distance (arb. units)')\n",
    "ylabel('Temperature (K)')"
   ]
  },
  {
   "cell_type": "code",
   "execution_count": null,
   "metadata": {
    "collapsed": false
   },
   "outputs": [],
   "source": [
    "def fitFunction(Wavelength, Temperature, distance): \n",
    "    return planck(Wavelength, Temperature) / distance**2"
   ]
  },
  {
   "cell_type": "code",
   "execution_count": null,
   "metadata": {
    "collapsed": false
   },
   "outputs": [],
   "source": [
    "from scipy import optimize\n",
    "params, covariance = scipy.optimize.curve_fit(fitFunction, spectrumLambdaVals, \\\n",
    "                         spectrumFluxVals, p0 = [2000.,.5],sigma=noiseRMS * ones(nDataPts))\n"
   ]
  },
  {
   "cell_type": "code",
   "execution_count": null,
   "metadata": {
    "collapsed": false
   },
   "outputs": [],
   "source": [
    "temperatureOutput = 1./sqrt(2*np.pi*covariance[0,0]) * exp(-(temperatures - params[0])**2 / (2 * covariance[0,0]))\n",
    "\n",
    "plot(temperatures, oneDtemp / max(oneDtemp) , label = 'full exploration')\n",
    "axvline(Temperature, ls = ':')\n",
    "                                                           \n",
    "                                                           \n",
    "plot(temperatures, temperatureOutput / max(temperatureOutput), label='curve_fit')\n",
    "legend(loc='best')"
   ]
  },
  {
   "cell_type": "code",
   "execution_count": null,
   "metadata": {
    "collapsed": false
   },
   "outputs": [],
   "source": [
    "distanceOutput = 1./sqrt(2*np.pi*covariance[1,1]) * exp(-(distances - params[1])**2 / (2 * covariance[1,1]))\n",
    "\n",
    "plot(distances,  oneDdistance / max(oneDdistance) , label = 'full exploration')\n",
    "axvline(distance, ls = ':')\n",
    "                                                           \n",
    "                                                           \n",
    "plot(distances, distanceOutput / max(distanceOutput), label='curve_fit')\n",
    "legend(loc = 'best')"
   ]
  },
  {
   "cell_type": "code",
   "execution_count": null,
   "metadata": {
    "collapsed": true
   },
   "outputs": [],
   "source": []
  }
 ],
 "metadata": {
  "kernelspec": {
   "display_name": "Python 2",
   "language": "python",
   "name": "python2"
  },
  "language_info": {
   "codemirror_mode": {
    "name": "ipython",
    "version": 2
   },
   "file_extension": ".py",
   "mimetype": "text/x-python",
   "name": "python",
   "nbconvert_exporter": "python",
   "pygments_lexer": "ipython2",
   "version": "2.7.11"
  }
 },
 "nbformat": 4,
 "nbformat_minor": 0
}
