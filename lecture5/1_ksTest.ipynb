{
 "cells": [
  {
   "cell_type": "markdown",
   "metadata": {},
   "source": [
    "## Kolmogorov - Smirnov Test\n",
    "\n",
    "### Do two distributions differ?\n",
    "\n",
    "* Board explanation of K-S test.\n"
   ]
  },
  {
   "cell_type": "code",
   "execution_count": null,
   "metadata": {
    "collapsed": true
   },
   "outputs": [],
   "source": [
    "import numpy as np\n",
    "\n",
    "np.random.seed(12345)\n",
    "N = 1000\n",
    "mean1 = .5\n",
    "mean2 = 1.\n",
    "a1 = mean1 + np.random.randn(N)\n",
    "a2 = mean2 + np.random.randn(N)"
   ]
  },
  {
   "cell_type": "markdown",
   "metadata": {},
   "source": [
    "Let's plot a histogram"
   ]
  },
  {
   "cell_type": "code",
   "execution_count": null,
   "metadata": {
    "collapsed": false
   },
   "outputs": [],
   "source": [
    "import matplotlib.pyplot as plt\n",
    "%pylab inline\n",
    "figure(figsize = (8,8))\n",
    "\n",
    "h1, bins1 = np.histogram(a1, bins = 30)\n",
    "h2, bins2 = np.histogram(a2, bins = 30)\n",
    "\n",
    "clf()\n",
    "plot(bins1[:-1], h1, label = 'a1')\n",
    "plot(bins2[:-1], h2, label = 'a2')\n",
    "\n",
    "\n"
   ]
  },
  {
   "cell_type": "code",
   "execution_count": null,
   "metadata": {
    "collapsed": false
   },
   "outputs": [],
   "source": [
    "stats.ks_2samp(a1, a2)"
   ]
  },
  {
   "cell_type": "markdown",
   "metadata": {},
   "source": [
    "\n",
    "We can reject the null hypothesis with a small p-value"
   ]
  },
  {
   "cell_type": "code",
   "execution_count": null,
   "metadata": {
    "collapsed": true
   },
   "outputs": [],
   "source": []
  },
  {
   "cell_type": "code",
   "execution_count": null,
   "metadata": {
    "collapsed": true
   },
   "outputs": [],
   "source": []
  },
  {
   "cell_type": "code",
   "execution_count": null,
   "metadata": {
    "collapsed": false
   },
   "outputs": [],
   "source": [
    "def functionalForm(x, a = 2., b = 3., c = 4., d = 2., e = 3.):\n",
    "    return a * sin(np.pi * x) + b * sin(2 * np.pi * x) + c * cos(np.pi * x) + d * cos(2 * np.pi * x) + e"
   ]
  },
  {
   "cell_type": "code",
   "execution_count": null,
   "metadata": {
    "collapsed": true
   },
   "outputs": [],
   "source": []
  },
  {
   "cell_type": "code",
   "execution_count": null,
   "metadata": {
    "collapsed": true
   },
   "outputs": [],
   "source": []
  },
  {
   "cell_type": "code",
   "execution_count": null,
   "metadata": {
    "collapsed": false
   },
   "outputs": [],
   "source": [
    "nPoints = 80\n",
    "\n",
    "xs = linspace(0,4 * np.pi, nPoints)\n",
    "rms = 1\n",
    "errors = rms * np.ones(nPoints)\n",
    "myData = functionalForm(xs) + rms * np.random.randn(nPoints)"
   ]
  },
  {
   "cell_type": "code",
   "execution_count": null,
   "metadata": {
    "collapsed": false
   },
   "outputs": [],
   "source": [
    "errorbar(xs, myData, rms * ones(nPoints), fmt = 'o')\n"
   ]
  },
  {
   "cell_type": "code",
   "execution_count": null,
   "metadata": {
    "collapsed": false
   },
   "outputs": [],
   "source": [
    "def residual(avec, x, y, errors):\n",
    "    '''This is what the chi-square routine will minimize -- x and y are datapoints; avec is the vector of \n",
    "parameter values.  Errors is a list of error bars.'''\n",
    "    return (y - functionalForm(x, avec[0], avec[1], avec[2], avec[3], avec[4])) / errors"
   ]
  },
  {
   "cell_type": "code",
   "execution_count": null,
   "metadata": {
    "collapsed": false
   },
   "outputs": [],
   "source": [
    "\n",
    "\n",
    "avec = [1, 1, 1, 1, 1]\n",
    "\n",
    "from scipy import optimize\n",
    "afit, flag = optimize.leastsq(residual, avec, args = (xs, myData, errors))\n"
   ]
  },
  {
   "cell_type": "code",
   "execution_count": null,
   "metadata": {
    "collapsed": false
   },
   "outputs": [],
   "source": [
    "afit\n"
   ]
  },
  {
   "cell_type": "code",
   "execution_count": null,
   "metadata": {
    "collapsed": false
   },
   "outputs": [],
   "source": [
    "aflag"
   ]
  },
  {
   "cell_type": "code",
   "execution_count": null,
   "metadata": {
    "collapsed": false
   },
   "outputs": [],
   "source": [
    "\n",
    "clf()\n",
    "errorbar(xs, myData, rms * ones(nPoints), fmt = 'o')\n",
    "plot(xs, functionalForm(xs, afit[0], afit[1], afit[2], afit[3], afit[4]))\n"
   ]
  },
  {
   "cell_type": "code",
   "execution_count": null,
   "metadata": {
    "collapsed": true
   },
   "outputs": [],
   "source": []
  }
 ],
 "metadata": {
  "kernelspec": {
   "display_name": "Python 2",
   "language": "python",
   "name": "python2"
  },
  "language_info": {
   "codemirror_mode": {
    "name": "ipython",
    "version": 2
   },
   "file_extension": ".py",
   "mimetype": "text/x-python",
   "name": "python",
   "nbconvert_exporter": "python",
   "pygments_lexer": "ipython2",
   "version": "2.7.11"
  }
 },
 "nbformat": 4,
 "nbformat_minor": 0
}
