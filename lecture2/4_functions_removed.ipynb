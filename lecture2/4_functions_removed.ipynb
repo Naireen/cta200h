{
 "metadata": {
  "kernelspec": {
   "display_name": "Python 2",
   "language": "python",
   "name": "python2"
  },
  "language_info": {
   "codemirror_mode": {
    "name": "ipython",
    "version": 2
   },
   "file_extension": ".py",
   "mimetype": "text/x-python",
   "name": "python",
   "nbconvert_exporter": "python",
   "pygments_lexer": "ipython2",
   "version": "2.7.10"
  },
  "name": ""
 },
 "nbformat": 3,
 "nbformat_minor": 0,
 "worksheets": [
  {
   "cells": [
    {
     "cell_type": "markdown",
     "metadata": {},
     "source": [
      "## Functions\n",
      "Functions are procedures that \"do things\": they usually take an input, do something with it, then return an output.  \n",
      "\n",
      "Code is much cleaner when as many tasks as possible are inside functions.\n",
      "\n",
      "Function declarations are simple in Python: one just needs a `def` statement, followed by an indented block of text."
     ]
    },
    {
     "cell_type": "code",
     "collapsed": false,
     "input": [
      "def cube(n):  #the function assumes \"default\" param of 1\n",
      "    return n**3\n",
      "\n",
      "\n",
      "print cube(2)\n",
      "\n",
      "\n"
     ],
     "language": "python",
     "metadata": {},
     "outputs": [],
     "prompt_number": 30
    },
    {
     "cell_type": "code",
     "collapsed": false,
     "input": [
      "print cube(5.0)"
     ],
     "language": "python",
     "metadata": {},
     "outputs": [],
     "prompt_number": 31
    },
    {
     "cell_type": "code",
     "collapsed": false,
     "input": [
      "print cube()"
     ],
     "language": "python",
     "metadata": {},
     "outputs": [],
     "prompt_number": 32
    },
    {
     "cell_type": "markdown",
     "metadata": {},
     "source": [
      "* works for various, undeclared datatypes\n",
      "* here has a default input param of 1; default not necessary"
     ]
    },
    {
     "cell_type": "markdown",
     "metadata": {},
     "source": [
      "**Careful** -- functions know about \"global variables\", but variables defined in the function are not known outside the function"
     ]
    },
    {
     "cell_type": "code",
     "collapsed": true,
     "input": [
      "global_var = 20\n",
      "\n",
      "def smallerThanGlobalVar(n):\n",
      "    i = 6 \n",
      "    \n",
      "    if n < global_var:\n",
      "        return True\n",
      "    else:\n",
      "        return False\n",
      "        \n"
     ],
     "language": "python",
     "metadata": {},
     "outputs": [],
     "prompt_number": 8
    },
    {
     "cell_type": "code",
     "collapsed": false,
     "input": [
      "smallerThanGlobalVar(3) #this should be true"
     ],
     "language": "python",
     "metadata": {},
     "outputs": [],
     "prompt_number": 9
    },
    {
     "cell_type": "code",
     "collapsed": false,
     "input": [
      "i #will this be defined?"
     ],
     "language": "python",
     "metadata": {
      "scrolled": true
     },
     "outputs": [],
     "prompt_number": 10
    },
    {
     "cell_type": "markdown",
     "metadata": {},
     "source": [
      "## Modules\n",
      "Many functions you will use will be contained in *modules*.  These are *imported* and then functions they contain become available."
     ]
    },
    {
     "cell_type": "code",
     "collapsed": false,
     "input": [
      "import sys\n",
      "sys.path.append('.')\n",
      "\n",
      "import aveTools\n",
      "\n",
      "\n",
      "\n"
     ],
     "language": "python",
     "metadata": {},
     "outputs": [],
     "prompt_number": 18
    },
    {
     "cell_type": "markdown",
     "metadata": {},
     "source": [
      "if in ipython or ipython notebook/jupyter, you can get info about the module with a question mark."
     ]
    },
    {
     "cell_type": "code",
     "collapsed": false,
     "input": [
      "aveTools?"
     ],
     "language": "python",
     "metadata": {},
     "outputs": [],
     "prompt_number": 24
    },
    {
     "cell_type": "markdown",
     "metadata": {},
     "source": [
      "With two question marks you see all the source code:"
     ]
    },
    {
     "cell_type": "code",
     "collapsed": true,
     "input": [
      "aveTools??"
     ],
     "language": "python",
     "metadata": {},
     "outputs": [],
     "prompt_number": 25
    },
    {
     "cell_type": "markdown",
     "metadata": {},
     "source": [
      "You can call one of the functions.  Here, a list of list of lists -- a three-dimensional list.  "
     ]
    },
    {
     "cell_type": "code",
     "collapsed": true,
     "input": [
      "my3dList = aveTools.threedl(4, 3, 2)"
     ],
     "language": "python",
     "metadata": {},
     "outputs": [],
     "prompt_number": 26
    },
    {
     "cell_type": "code",
     "collapsed": false,
     "input": [
      "my3dList\n"
     ],
     "language": "python",
     "metadata": {},
     "outputs": [],
     "prompt_number": 27
    },
    {
     "cell_type": "markdown",
     "metadata": {},
     "source": [
      "(note this is not ideal for numerical data, as we will use the numpy array type for multidimensional data.  But this can be useful for n-dimensional arrays of any other type of object.)"
     ]
    },
    {
     "cell_type": "heading",
     "level": 2,
     "metadata": {},
     "source": [
      "Keyword options"
     ]
    },
    {
     "cell_type": "markdown",
     "metadata": {},
     "source": [
      "* You can send \"optional\" parameters as keywords.  \n",
      "* These follow the \"required\" parameters\n",
      "* They usually have a default value set in the first line"
     ]
    },
    {
     "cell_type": "code",
     "collapsed": true,
     "input": [
      "def secondOrderPolynomial(x, a = 0, b = 0, c = 0):\n",
      "    return a * x**2 + b * x + c"
     ],
     "language": "python",
     "metadata": {},
     "outputs": [],
     "prompt_number": 33
    },
    {
     "cell_type": "code",
     "collapsed": false,
     "input": [
      "secondOrderPolynomial(4)"
     ],
     "language": "python",
     "metadata": {},
     "outputs": [],
     "prompt_number": 34
    },
    {
     "cell_type": "code",
     "collapsed": false,
     "input": [
      "secondOrderPolynomial(4., a = 3.) #1 optional param"
     ],
     "language": "python",
     "metadata": {},
     "outputs": [],
     "prompt_number": 39
    },
    {
     "cell_type": "code",
     "collapsed": false,
     "input": [
      "secondOrderPolynomial(4., a = 3., b = 2., c = 5.)\n",
      "#3 optional params"
     ],
     "language": "python",
     "metadata": {},
     "outputs": [],
     "prompt_number": 40
    },
    {
     "cell_type": "markdown",
     "metadata": {},
     "source": [
      "* You can omit the names of the optional arguments if the ordering is unambiguous.  "
     ]
    },
    {
     "cell_type": "code",
     "collapsed": false,
     "input": [
      "secondOrderPolynomial(4., 3., 2., 5.)"
     ],
     "language": "python",
     "metadata": {},
     "outputs": [],
     "prompt_number": 41
    },
    {
     "cell_type": "markdown",
     "metadata": {},
     "source": [
      "* This is error-prone, though -- best to name the optional arguments when they are being passed"
     ]
    },
    {
     "cell_type": "code",
     "collapsed": false,
     "input": [],
     "language": "python",
     "metadata": {},
     "outputs": [],
     "prompt_number": 42
    },
    {
     "cell_type": "code",
     "collapsed": true,
     "input": [],
     "language": "python",
     "metadata": {},
     "outputs": [],
     "prompt_number": null
    }
   ],
   "metadata": {}
  }
 ]
}