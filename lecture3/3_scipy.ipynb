{
 "cells": [
  {
   "cell_type": "markdown",
   "metadata": {},
   "source": [
    "# scipy\n",
    "\n",
    "### Integration\n",
    "\n",
    "\n",
    "* $\\int_0^5 dx (x^2 + 3)$\n",
    "\n",
    "* We will use Gaussian quadrature  https://en.wikipedia.org/wiki/Gaussian_quadrature \n",
    "\n",
    "* exact answer is $5^3 / 3 + 3\\times5 $"
   ]
  },
  {
   "cell_type": "code",
   "execution_count": null,
   "metadata": {
    "collapsed": false
   },
   "outputs": [],
   "source": [
    "5.**3 / 3 + 3 * 5."
   ]
  },
  {
   "cell_type": "code",
   "execution_count": null,
   "metadata": {
    "collapsed": false
   },
   "outputs": [],
   "source": [
    "from scipy import integrate\n",
    "\n",
    "import numpy as np\n",
    "\n",
    "def myf(x):\n",
    "    return x**2 + 3\n",
    "\n",
    "I, err = integrate.quad(myf, 0, 5, epsabs = 1.e-14)\n",
    "\n",
    "print I, err"
   ]
  },
  {
   "cell_type": "markdown",
   "metadata": {},
   "source": [
    "### Integration of a pre-sampled function\n",
    "\n",
    "In astrophysics this happens a lot -- someone hands you some pre-sampled points, and you have to calculate the area under the curve.\n",
    "\n",
    "Recall Simpson's rule -- https://en.wikipedia.org/wiki/Gaussian_quadrature\n"
   ]
  },
  {
   "cell_type": "code",
   "execution_count": null,
   "metadata": {
    "collapsed": false
   },
   "outputs": [],
   "source": [
    "N = 20\n",
    "\n",
    "x = np.linspace(0, 2 * np.pi, N)\n"
   ]
  },
  {
   "cell_type": "code",
   "execution_count": null,
   "metadata": {
    "collapsed": false
   },
   "outputs": [],
   "source": [
    "y = np.cos(x)**2"
   ]
  },
  {
   "cell_type": "code",
   "execution_count": null,
   "metadata": {
    "collapsed": false
   },
   "outputs": [],
   "source": [
    "%pylab inline\n",
    "\n",
    "plot(x, y, 'o')\n"
   ]
  },
  {
   "cell_type": "code",
   "execution_count": null,
   "metadata": {
    "collapsed": false
   },
   "outputs": [],
   "source": [
    "val = integrate.simps(y,x)"
   ]
  },
  {
   "cell_type": "code",
   "execution_count": null,
   "metadata": {
    "collapsed": false
   },
   "outputs": [],
   "source": [
    "print \"value is\", val, \"fractional error is\" , np.abs(val - np.pi) / np.pi"
   ]
  },
  {
   "cell_type": "markdown",
   "metadata": {},
   "source": [
    "Not bad -- 0.2% accuracy based on so few points.\n",
    "\n",
    "### Interpolation\n",
    "\n",
    "* Say you have some data on a coarsely-sampled grid and need data on a finer grid.\n",
    "* Example function (from which coarse data are drawn):  $f(x) = (e^{-x})  \\sin(2  \\pi  x)$"
   ]
  },
  {
   "cell_type": "code",
   "execution_count": null,
   "metadata": {
    "collapsed": true
   },
   "outputs": [],
   "source": [
    "def myf(x):\n",
    "    return (exp(-x)) * sin(2 * numpy.pi * x)"
   ]
  },
  {
   "cell_type": "markdown",
   "metadata": {},
   "source": [
    "Let's sample this at a handful of points."
   ]
  },
  {
   "cell_type": "code",
   "execution_count": null,
   "metadata": {
    "collapsed": true
   },
   "outputs": [],
   "source": [
    "x_coarse = linspace(0, 2, num = 8)"
   ]
  },
  {
   "cell_type": "code",
   "execution_count": null,
   "metadata": {
    "collapsed": false
   },
   "outputs": [],
   "source": [
    "x_fine = linspace(0, 2, num = 50)"
   ]
  },
  {
   "cell_type": "markdown",
   "metadata": {},
   "source": [
    "We will use a cubic spline  http://mathworld.wolfram.com/CubicSpline.html"
   ]
  },
  {
   "cell_type": "code",
   "execution_count": null,
   "metadata": {
    "collapsed": false
   },
   "outputs": [],
   "source": [
    "from scipy import interpolate\n",
    "myInterpFunc = interpolate.interp1d(x_coarse, myf(x_coarse), kind = 'cubic')"
   ]
  },
  {
   "cell_type": "code",
   "execution_count": null,
   "metadata": {
    "collapsed": false
   },
   "outputs": [],
   "source": [
    "y_coarse = myInterpFunc(x_coarse)"
   ]
  },
  {
   "cell_type": "code",
   "execution_count": null,
   "metadata": {
    "collapsed": false
   },
   "outputs": [],
   "source": [
    "plot(x_coarse, y_coarse, 'o', label = 'original points')"
   ]
  },
  {
   "cell_type": "code",
   "execution_count": null,
   "metadata": {
    "collapsed": false
   },
   "outputs": [],
   "source": [
    "plot(x_fine, myInterpFunc(x_fine), '+', label = 'interpolated values')\n",
    "plot(x_coarse, myf(x_coarse), 'o', label = 'original points')\n",
    "\n",
    "\n",
    "\n",
    "plot(x_superfine, myf(x_superfine), label = 'original function')\n",
    "legend()"
   ]
  },
  {
   "cell_type": "code",
   "execution_count": null,
   "metadata": {
    "collapsed": false
   },
   "outputs": [],
   "source": []
  },
  {
   "cell_type": "code",
   "execution_count": null,
   "metadata": {
    "collapsed": true
   },
   "outputs": [],
   "source": []
  },
  {
   "cell_type": "code",
   "execution_count": null,
   "metadata": {
    "collapsed": true
   },
   "outputs": [],
   "source": []
  }
 ],
 "metadata": {
  "kernelspec": {
   "display_name": "Python 2",
   "language": "python",
   "name": "python2"
  },
  "language_info": {
   "codemirror_mode": {
    "name": "ipython",
    "version": 2
   },
   "file_extension": ".py",
   "mimetype": "text/x-python",
   "name": "python",
   "nbconvert_exporter": "python",
   "pygments_lexer": "ipython2",
   "version": "2.7.10"
  }
 },
 "nbformat": 4,
 "nbformat_minor": 0
}
