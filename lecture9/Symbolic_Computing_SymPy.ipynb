{
 "metadata": {
  "name": "",
  "signature": "sha256:5c4d943892c0e071dec87907d8d8723af92edb5bf52a949cd2e64d2761cdd663"
 },
 "nbformat": 3,
 "nbformat_minor": 0,
 "worksheets": [
  {
   "cells": [
    {
     "cell_type": "heading",
     "level": 1,
     "metadata": {},
     "source": [
      "Symbolic Computing with SymPy"
     ]
    },
    {
     "cell_type": "markdown",
     "metadata": {},
     "source": [
      "Use of Computer Algebra Systems (CAS) or symbolic computing relates to symbolic mathematical operations to be contrasted with the floating point mathematics of numerical computation.  Symbolic computing should be viewed as complementary to numerical computing, and both can be extremely helpful in the course of your research.  We will focus here on symbolic computing in SymPy, a Python based CAS."
     ]
    },
    {
     "cell_type": "markdown",
     "metadata": {},
     "source": [
      "This lesson is developed from the official SymPy tutorial, available with more detail at http://docs.sympy.org/latest/tutorial/index.html."
     ]
    },
    {
     "cell_type": "markdown",
     "metadata": {},
     "source": [
      "A working version of SymPy can be accessed from anywhere by going to http://live.sympy.org"
     ]
    },
    {
     "cell_type": "markdown",
     "metadata": {},
     "source": [
      "To get started with SymPy, we need to import the library."
     ]
    },
    {
     "cell_type": "code",
     "collapsed": true,
     "input": [
      "%pylab inline\n",
      "from sympy import *"
     ],
     "language": "python",
     "metadata": {},
     "outputs": []
    },
    {
     "cell_type": "markdown",
     "metadata": {},
     "source": [
      "One advantage of a CAS such as SymPy is that irrational numbers are treated exactly, rather than approximately."
     ]
    },
    {
     "cell_type": "code",
     "collapsed": true,
     "input": [
      "sqrt(8)"
     ],
     "language": "python",
     "metadata": {},
     "outputs": []
    },
    {
     "cell_type": "markdown",
     "metadata": {},
     "source": [
      "Compare this to what we would have gotten using the built-in Python commands."
     ]
    },
    {
     "cell_type": "code",
     "collapsed": false,
     "input": [
      "import math\n",
      "math.sqrt(8)"
     ],
     "language": "python",
     "metadata": {},
     "outputs": []
    },
    {
     "cell_type": "markdown",
     "metadata": {},
     "source": [
      "Another advantage of SymPy is that it can produce pretty output, including LaTeX.  Let us now turn on the LaTeX printer for SymPy."
     ]
    },
    {
     "cell_type": "code",
     "collapsed": false,
     "input": [
      "init_printing(latex)"
     ],
     "language": "python",
     "metadata": {},
     "outputs": []
    },
    {
     "cell_type": "markdown",
     "metadata": {},
     "source": [
      "The main advantage of any CAS, however is its ability to deal with variables, which are called symobls in SymPy.  We first have to define symbols that will then be treated as SymPy objects."
     ]
    },
    {
     "cell_type": "code",
     "collapsed": true,
     "input": [
      "x, y, z, t, nu, sigma = symbols('x y z t nu sigma')"
     ],
     "language": "python",
     "metadata": {},
     "outputs": []
    },
    {
     "cell_type": "code",
     "collapsed": false,
     "input": [
      "expr = x**2+2*y\n",
      "expr"
     ],
     "language": "python",
     "metadata": {},
     "outputs": []
    },
    {
     "cell_type": "code",
     "collapsed": false,
     "input": [
      "expr + 1"
     ],
     "language": "python",
     "metadata": {},
     "outputs": []
    },
    {
     "cell_type": "code",
     "collapsed": false,
     "input": [
      "expr - y"
     ],
     "language": "python",
     "metadata": {},
     "outputs": []
    },
    {
     "cell_type": "code",
     "collapsed": false,
     "input": [
      "expr * x"
     ],
     "language": "python",
     "metadata": {},
     "outputs": []
    },
    {
     "cell_type": "code",
     "collapsed": false,
     "input": [
      "expr**2"
     ],
     "language": "python",
     "metadata": {},
     "outputs": []
    },
    {
     "cell_type": "code",
     "collapsed": false,
     "input": [
      "expand(expr**2)"
     ],
     "language": "python",
     "metadata": {},
     "outputs": []
    },
    {
     "cell_type": "code",
     "collapsed": false,
     "input": [
      "x**nu+sigma"
     ],
     "language": "python",
     "metadata": {},
     "outputs": []
    },
    {
     "cell_type": "markdown",
     "metadata": {},
     "source": [
      "You can see from these examples that SymPy does some straightforward simplifications automatically, but exressions are neither factored nor expanded unless explicit commands are given.  There are also several built-in characters which will produce nice LaTeX output."
     ]
    },
    {
     "cell_type": "heading",
     "level": 1,
     "metadata": {},
     "source": [
      "Quick Examples"
     ]
    },
    {
     "cell_type": "heading",
     "level": 2,
     "metadata": {},
     "source": [
      "Derivatives"
     ]
    },
    {
     "cell_type": "code",
     "collapsed": false,
     "input": [
      "diff(exp(x**2), x)"
     ],
     "language": "python",
     "metadata": {},
     "outputs": []
    },
    {
     "cell_type": "code",
     "collapsed": false,
     "input": [
      "diff(x**7, x)"
     ],
     "language": "python",
     "metadata": {},
     "outputs": []
    },
    {
     "cell_type": "code",
     "collapsed": false,
     "input": [
      "diff(x**7, x, x)"
     ],
     "language": "python",
     "metadata": {},
     "outputs": []
    },
    {
     "cell_type": "code",
     "collapsed": false,
     "input": [
      "diff(x**7, x, 3)"
     ],
     "language": "python",
     "metadata": {},
     "outputs": []
    },
    {
     "cell_type": "code",
     "collapsed": false,
     "input": [
      "diff(x**2 * y**3, x, y)"
     ],
     "language": "python",
     "metadata": {},
     "outputs": []
    },
    {
     "cell_type": "code",
     "collapsed": false,
     "input": [
      "diff(sin(x)**2, x)"
     ],
     "language": "python",
     "metadata": {},
     "outputs": []
    },
    {
     "cell_type": "code",
     "collapsed": false,
     "input": [
      "diff(exp(x)*cos(x), x)"
     ],
     "language": "python",
     "metadata": {},
     "outputs": []
    },
    {
     "cell_type": "markdown",
     "metadata": {},
     "source": [
      "Multiple derivatives can be taken by repeating the variable, or by indicating the order of the derivative with an integer."
     ]
    },
    {
     "cell_type": "heading",
     "level": 2,
     "metadata": {},
     "source": [
      "Integrals"
     ]
    },
    {
     "cell_type": "code",
     "collapsed": false,
     "input": [
      "integrate(2*x, x)"
     ],
     "language": "python",
     "metadata": {},
     "outputs": []
    },
    {
     "cell_type": "code",
     "collapsed": false,
     "input": [
      "integrate(sin(x)*cos(x), x)"
     ],
     "language": "python",
     "metadata": {},
     "outputs": []
    },
    {
     "cell_type": "code",
     "collapsed": false,
     "input": [
      "integrate(exp(x)*cos(x)**2, x)"
     ],
     "language": "python",
     "metadata": {},
     "outputs": []
    },
    {
     "cell_type": "code",
     "collapsed": false,
     "input": [
      "integrate(y*x*z, x, y)"
     ],
     "language": "python",
     "metadata": {},
     "outputs": []
    },
    {
     "cell_type": "code",
     "collapsed": false,
     "input": [
      "integrate(cos(x), (x, 1, 2))"
     ],
     "language": "python",
     "metadata": {},
     "outputs": []
    },
    {
     "cell_type": "code",
     "collapsed": false,
     "input": [
      "integrate(exp(-x**2), (x, -oo, oo))"
     ],
     "language": "python",
     "metadata": {},
     "outputs": []
    },
    {
     "cell_type": "markdown",
     "metadata": {},
     "source": [
      "Note that infinity is written as two small 'o' characters."
     ]
    },
    {
     "cell_type": "heading",
     "level": 2,
     "metadata": {},
     "source": [
      "Limits"
     ]
    },
    {
     "cell_type": "code",
     "collapsed": false,
     "input": [
      "limit( (x**2 - 1)/(x - 1), x, 1)"
     ],
     "language": "python",
     "metadata": {},
     "outputs": []
    },
    {
     "cell_type": "code",
     "collapsed": false,
     "input": [
      "limit( (5*x**4 + 3*x**2)/(2*x**4 - 20*x**3 + 4), x, oo)"
     ],
     "language": "python",
     "metadata": {},
     "outputs": []
    },
    {
     "cell_type": "code",
     "collapsed": false,
     "input": [
      "limit( sin(x)/x, x, 0)"
     ],
     "language": "python",
     "metadata": {},
     "outputs": []
    },
    {
     "cell_type": "code",
     "collapsed": false,
     "input": [
      "limit(1/x, x, 0, '+')"
     ],
     "language": "python",
     "metadata": {},
     "outputs": []
    },
    {
     "cell_type": "code",
     "collapsed": false,
     "input": [
      "limit(1/x, x, 0, '-')"
     ],
     "language": "python",
     "metadata": {},
     "outputs": []
    },
    {
     "cell_type": "heading",
     "level": 2,
     "metadata": {},
     "source": [
      "Solving Algebraic Equations"
     ]
    },
    {
     "cell_type": "markdown",
     "metadata": {},
     "source": [
      "The function `solve()` assumes that the expression is equal to zero unless the SymPy `Eq()` is used."
     ]
    },
    {
     "cell_type": "code",
     "collapsed": false,
     "input": [
      "solve(x**2 - 9, x)"
     ],
     "language": "python",
     "metadata": {},
     "outputs": []
    },
    {
     "cell_type": "code",
     "collapsed": false,
     "input": [
      "solve( x**2 + y*x + z, x)"
     ],
     "language": "python",
     "metadata": {},
     "outputs": []
    },
    {
     "cell_type": "code",
     "collapsed": false,
     "input": [
      "solve(10**x - y**3, x)"
     ],
     "language": "python",
     "metadata": {},
     "outputs": []
    },
    {
     "cell_type": "code",
     "collapsed": false,
     "input": [
      "solve(tan(x) - y**2, x)"
     ],
     "language": "python",
     "metadata": {},
     "outputs": []
    },
    {
     "cell_type": "code",
     "collapsed": false,
     "input": [
      "solve(x**2 + 1, x)"
     ],
     "language": "python",
     "metadata": {},
     "outputs": []
    },
    {
     "cell_type": "code",
     "collapsed": false,
     "input": [
      "solve(x**3 + 1, x)"
     ],
     "language": "python",
     "metadata": {},
     "outputs": []
    },
    {
     "cell_type": "heading",
     "level": 2,
     "metadata": {},
     "source": [
      "Solving Differential Equations"
     ]
    },
    {
     "cell_type": "markdown",
     "metadata": {},
     "source": [
      "The function `dsolve()` can be used to solve differential equations after defining `Function` symbols."
     ]
    },
    {
     "cell_type": "code",
     "collapsed": false,
     "input": [
      "f, g, h = symbols('f g h', cls=Function)"
     ],
     "language": "python",
     "metadata": {},
     "outputs": []
    },
    {
     "cell_type": "code",
     "collapsed": false,
     "input": [
      "dsolve(diff(f(x), x) - f(x), f(x))"
     ],
     "language": "python",
     "metadata": {},
     "outputs": []
    },
    {
     "cell_type": "code",
     "collapsed": false,
     "input": [
      "dsolve(diff(f(x), x, x) + f(x), f(x))"
     ],
     "language": "python",
     "metadata": {},
     "outputs": []
    },
    {
     "cell_type": "code",
     "collapsed": false,
     "input": [
      "dsolve(diff(f(x), x, x) + 3 * diff(f(x), x ) + 6 * f(x), f(x))"
     ],
     "language": "python",
     "metadata": {},
     "outputs": []
    },
    {
     "cell_type": "heading",
     "level": 1,
     "metadata": {},
     "source": [
      "Basic Manipulation"
     ]
    },
    {
     "cell_type": "heading",
     "level": 2,
     "metadata": {},
     "source": [
      "Substitution and Numerical Evaluation"
     ]
    },
    {
     "cell_type": "markdown",
     "metadata": {},
     "source": [
      "All instances of a variable in an expression can be replaced with the subs() command."
     ]
    },
    {
     "cell_type": "code",
     "collapsed": false,
     "input": [
      "expr = 4*x**2 + 3*x + 1\n",
      "expr"
     ],
     "language": "python",
     "metadata": {},
     "outputs": []
    },
    {
     "cell_type": "code",
     "collapsed": false,
     "input": [
      "expr.subs(x, 2)"
     ],
     "language": "python",
     "metadata": {},
     "outputs": []
    },
    {
     "cell_type": "code",
     "collapsed": false,
     "input": [
      "expr.subs(x, y+z)"
     ],
     "language": "python",
     "metadata": {},
     "outputs": []
    },
    {
     "cell_type": "code",
     "collapsed": true,
     "input": [
      "expr = x**2 * y**2 + 3 * x * y**2 + 4*x - 12*z\n",
      "expr"
     ],
     "language": "python",
     "metadata": {},
     "outputs": []
    },
    {
     "cell_type": "code",
     "collapsed": true,
     "input": [
      "expr.subs([(x,3), (y,-1), (z,2)])"
     ],
     "language": "python",
     "metadata": {},
     "outputs": []
    },
    {
     "cell_type": "markdown",
     "metadata": {},
     "source": [
      "The `evalf()` command is used to evaluate an expression as a floating point number to an arbitrary number of digits."
     ]
    },
    {
     "cell_type": "code",
     "collapsed": false,
     "input": [
      "expr = sqrt(8)\n",
      "expr"
     ],
     "language": "python",
     "metadata": {},
     "outputs": []
    },
    {
     "cell_type": "code",
     "collapsed": false,
     "input": [
      "expr.evalf()"
     ],
     "language": "python",
     "metadata": {},
     "outputs": []
    },
    {
     "cell_type": "code",
     "collapsed": false,
     "input": [
      "expr = sqrt(x)\n",
      "expr"
     ],
     "language": "python",
     "metadata": {},
     "outputs": []
    },
    {
     "cell_type": "code",
     "collapsed": false,
     "input": [
      "expr.evalf(subs={x: 2})"
     ],
     "language": "python",
     "metadata": {},
     "outputs": []
    },
    {
     "cell_type": "code",
     "collapsed": false,
     "input": [
      "pi.evalf(100)"
     ],
     "language": "python",
     "metadata": {},
     "outputs": []
    },
    {
     "cell_type": "heading",
     "level": 2,
     "metadata": {},
     "source": [
      "Simplification"
     ]
    },
    {
     "cell_type": "markdown",
     "metadata": {},
     "source": [
      "The function `simplify()` attempts to give the simplest form of an expression."
     ]
    },
    {
     "cell_type": "code",
     "collapsed": false,
     "input": [
      "simplify(sin(x)**2 + cos(x)**2)"
     ],
     "language": "python",
     "metadata": {},
     "outputs": []
    },
    {
     "cell_type": "code",
     "collapsed": false,
     "input": [
      "simplify((x**3 + x**2 - x - 1)/(x**2 + 2*x + 1))"
     ],
     "language": "python",
     "metadata": {},
     "outputs": []
    },
    {
     "cell_type": "code",
     "collapsed": false,
     "input": [
      "simplify(gamma(x)/gamma(x - 2))"
     ],
     "language": "python",
     "metadata": {},
     "outputs": []
    },
    {
     "cell_type": "markdown",
     "metadata": {},
     "source": [
      "Expressions are typically not expanded or factored by `simplify()`, but can be forced to do so by `expand()` and `factor()`."
     ]
    },
    {
     "cell_type": "code",
     "collapsed": false,
     "input": [
      "expand((x + 1)**4)"
     ],
     "language": "python",
     "metadata": {},
     "outputs": []
    },
    {
     "cell_type": "code",
     "collapsed": false,
     "input": [
      "factor(x**2 + 2*x + 1)"
     ],
     "language": "python",
     "metadata": {},
     "outputs": []
    },
    {
     "cell_type": "markdown",
     "metadata": {},
     "source": [
      "`collect()` can be used to group common powers of a given term in an expression."
     ]
    },
    {
     "cell_type": "code",
     "collapsed": false,
     "input": [
      "collect(4*x**2 + 3*x + 6*z*x**2 + y*x + 1, x)"
     ],
     "language": "python",
     "metadata": {},
     "outputs": []
    },
    {
     "cell_type": "heading",
     "level": 1,
     "metadata": {},
     "source": [
      "Calculus"
     ]
    },
    {
     "cell_type": "markdown",
     "metadata": {},
     "source": [
      "There are tools for performing calculus operations as well as creating unevaluated derivatives, integrals, and series, which can be evaluated with the `doit()` command."
     ]
    },
    {
     "cell_type": "code",
     "collapsed": false,
     "input": [
      "diff(log(x), x)"
     ],
     "language": "python",
     "metadata": {},
     "outputs": []
    },
    {
     "cell_type": "code",
     "collapsed": false,
     "input": [
      "expr = sin(x)*y**2\n",
      "expr"
     ],
     "language": "python",
     "metadata": {},
     "outputs": []
    },
    {
     "cell_type": "code",
     "collapsed": false,
     "input": [
      "expr.diff(x, x, y)"
     ],
     "language": "python",
     "metadata": {},
     "outputs": []
    },
    {
     "cell_type": "code",
     "collapsed": false,
     "input": [
      "deriv = Derivative(exp(x**2*y),x,y)\n",
      "deriv"
     ],
     "language": "python",
     "metadata": {},
     "outputs": []
    },
    {
     "cell_type": "code",
     "collapsed": false,
     "input": [
      "deriv.doit()"
     ],
     "language": "python",
     "metadata": {},
     "outputs": []
    },
    {
     "cell_type": "code",
     "collapsed": false,
     "input": [
      "integrate(exp(x)*x**2, x)"
     ],
     "language": "python",
     "metadata": {},
     "outputs": []
    },
    {
     "cell_type": "code",
     "collapsed": false,
     "input": [
      "integ = Integral(exp(-x**2 - y**2), (x, -oo, oo), (y, -oo, oo))\n",
      "integ"
     ],
     "language": "python",
     "metadata": {},
     "outputs": []
    },
    {
     "cell_type": "code",
     "collapsed": false,
     "input": [
      "integ.doit()"
     ],
     "language": "python",
     "metadata": {},
     "outputs": []
    },
    {
     "cell_type": "code",
     "collapsed": false,
     "input": [
      "limit(tan(x)/x, x, 0)"
     ],
     "language": "python",
     "metadata": {},
     "outputs": []
    },
    {
     "cell_type": "code",
     "collapsed": false,
     "input": [
      "expr = Limit(sqrt(sin(x))/sqrt(x),x,0)\n",
      "expr"
     ],
     "language": "python",
     "metadata": {},
     "outputs": []
    },
    {
     "cell_type": "code",
     "collapsed": false,
     "input": [
      "expr.doit()"
     ],
     "language": "python",
     "metadata": {},
     "outputs": []
    },
    {
     "cell_type": "heading",
     "level": 2,
     "metadata": {},
     "source": [
      "Series Expansions"
     ]
    },
    {
     "cell_type": "markdown",
     "metadata": {},
     "source": [
      "SymPy can perform Taylor series expansions of a given function about a specified point to a desired order (which defaults to 6)."
     ]
    },
    {
     "cell_type": "code",
     "collapsed": false,
     "input": [
      "series(exp(x), x, 0, 8)"
     ],
     "language": "python",
     "metadata": {},
     "outputs": []
    },
    {
     "cell_type": "code",
     "collapsed": false,
     "input": [
      "expr = atan(x)\n",
      "expr.series(x, 0)"
     ],
     "language": "python",
     "metadata": {},
     "outputs": []
    },
    {
     "cell_type": "code",
     "collapsed": false,
     "input": [
      "series(f(x), x, 1)"
     ],
     "language": "python",
     "metadata": {},
     "outputs": []
    },
    {
     "cell_type": "code",
     "collapsed": false,
     "input": [
      "series(exp(1/x), x, oo)"
     ],
     "language": "python",
     "metadata": {},
     "outputs": []
    },
    {
     "cell_type": "code",
     "collapsed": false,
     "input": [
      "series(1/sin(x), x, 0)"
     ],
     "language": "python",
     "metadata": {},
     "outputs": []
    },
    {
     "cell_type": "heading",
     "level": 1,
     "metadata": {},
     "source": [
      "Printing"
     ]
    },
    {
     "cell_type": "markdown",
     "metadata": {},
     "source": [
      "We have so far seen that SymPy can produce nice LaTeX output for easy reading.  It can also produce output which is easily transferrable for other uses."
     ]
    },
    {
     "cell_type": "code",
     "collapsed": false,
     "input": [
      "expr = Piecewise((x + 1, x > 0), (x, True))\n",
      "expr"
     ],
     "language": "python",
     "metadata": {},
     "outputs": []
    },
    {
     "cell_type": "code",
     "collapsed": false,
     "input": [
      "print(latex(expr))"
     ],
     "language": "python",
     "metadata": {},
     "outputs": []
    },
    {
     "cell_type": "code",
     "collapsed": false,
     "input": [
      "print(ccode(expr))"
     ],
     "language": "python",
     "metadata": {},
     "outputs": []
    },
    {
     "cell_type": "code",
     "collapsed": false,
     "input": [
      "print(fcode(expr))"
     ],
     "language": "python",
     "metadata": {},
     "outputs": []
    },
    {
     "cell_type": "code",
     "collapsed": false,
     "input": [
      "print(python(expr))"
     ],
     "language": "python",
     "metadata": {},
     "outputs": []
    },
    {
     "cell_type": "code",
     "collapsed": false,
     "input": [
      "expr = Eq(x**2 + 2*log(3*y), z)\n",
      "expr"
     ],
     "language": "python",
     "metadata": {},
     "outputs": []
    },
    {
     "cell_type": "code",
     "collapsed": false,
     "input": [
      "print(latex(expr))"
     ],
     "language": "python",
     "metadata": {},
     "outputs": []
    },
    {
     "cell_type": "code",
     "collapsed": false,
     "input": [
      "print(ccode(expr))"
     ],
     "language": "python",
     "metadata": {},
     "outputs": []
    },
    {
     "cell_type": "code",
     "collapsed": false,
     "input": [
      "print(fcode(expr))"
     ],
     "language": "python",
     "metadata": {},
     "outputs": []
    },
    {
     "cell_type": "code",
     "collapsed": false,
     "input": [
      "expr = Integral(exp(-x**2-y**2), (x, 0, oo), (y, 0, oo))\n",
      "expr"
     ],
     "language": "python",
     "metadata": {},
     "outputs": []
    },
    {
     "cell_type": "code",
     "collapsed": false,
     "input": [
      "print(latex(expr))"
     ],
     "language": "python",
     "metadata": {},
     "outputs": []
    },
    {
     "cell_type": "code",
     "collapsed": false,
     "input": [
      "print(python(expr))"
     ],
     "language": "python",
     "metadata": {},
     "outputs": []
    },
    {
     "cell_type": "heading",
     "level": 1,
     "metadata": {},
     "source": [
      "Detailed Example: The Quantum Harmonic Oscillator"
     ]
    },
    {
     "cell_type": "markdown",
     "metadata": {},
     "source": [
      "Let us now see how we can use what we have learned about SymPy to treat a realistic physical problem: the 1-d quantum harmonic oscillator (following Griffiths Quantum Mechanics).  In particular, we wish to find the wavefunctions and energy levels of a particle of mass $m$ in a potential $V(x) = \\frac{1}{2} m \\omega^2 x^2$.  We need to solve the time-independent Schrodinger equation.\n",
      "$$-\\frac{\\hbar^2}{2m}\\frac{d^2\\phi}{dx^2} + \\frac{1}{2} m \\omega^2 x^2 \\phi = E \\phi$$\n",
      "Let's put this in a slightly more convenient form\n",
      "$$ \\frac{d^2\\phi}{d\\xi^2} = (\\xi^2 - K)\\phi $$\n",
      "where we have defined $\\xi \\equiv \\sqrt{\\frac{m\\omega}{\\hbar}}x$ and $K \\equiv \\frac{2E}{\\hbar\\omega} $.  We will now define the relevant quantities for SymPy manipulation."
     ]
    },
    {
     "cell_type": "code",
     "collapsed": false,
     "input": [
      "phi, f = symbols('phi f', cls=Function)\n",
      "xi, K, c = symbols('xi K c')"
     ],
     "language": "python",
     "metadata": {},
     "outputs": []
    },
    {
     "cell_type": "markdown",
     "metadata": {},
     "source": [
      "Notice that for large $\\xi$, we can neglect the $K$ on the right hand side of the equation.  In this regime, we can easily find approximate solutions to the approximate version of Schrodinger's equation."
     ]
    },
    {
     "cell_type": "code",
     "collapsed": false,
     "input": [
      "schrod_approx = Eq(diff(phi(xi),xi,xi), xi**2*phi(xi))\n",
      "schrod_approx"
     ],
     "language": "python",
     "metadata": {},
     "outputs": []
    },
    {
     "cell_type": "code",
     "collapsed": false,
     "input": [
      "A, B = symbols('A B')\n",
      "sol_approx = A*exp(xi**2/2) + B*exp(-xi**2/2)\n",
      "sol_approx"
     ],
     "language": "python",
     "metadata": {},
     "outputs": []
    },
    {
     "cell_type": "markdown",
     "metadata": {},
     "source": [
      "Let's check that this is indeed an approximate solution."
     ]
    },
    {
     "cell_type": "code",
     "collapsed": false,
     "input": [
      "diff(sol_approx,xi,xi)"
     ],
     "language": "python",
     "metadata": {},
     "outputs": []
    },
    {
     "cell_type": "markdown",
     "metadata": {},
     "source": [
      "We see that in the regime $\\xi\\rightarrow\\infty$, this is indeed an approximate solution to Schrodinger's equation.  We can also see that the term proportional to $A$ blows up as $\\xi\\rightarrow\\infty$ and is thus unphysical.  We therefore take the term proportional to $B$ to be our approximate solution in this regime.  We can the simplify the subsequent steps by separating out this exponential piece of the solution.  Let us define\n",
      "$$\\phi(\\xi) \\equiv h(\\xi) e^{-\\xi^2/2}$$"
     ]
    },
    {
     "cell_type": "code",
     "collapsed": false,
     "input": [
      "h = symbols('h', cls=Function)\n",
      "phi_sub = h(xi)*exp(-xi**2/2)\n",
      "phi_sub"
     ],
     "language": "python",
     "metadata": {},
     "outputs": []
    },
    {
     "cell_type": "code",
     "collapsed": false,
     "input": [
      "phi_prime = diff(phi_sub, xi)\n",
      "phi_prime"
     ],
     "language": "python",
     "metadata": {},
     "outputs": []
    },
    {
     "cell_type": "code",
     "collapsed": false,
     "input": [
      "phi_prime_prime = diff(phi_prime, xi)\n",
      "phi_prime_prime"
     ],
     "language": "python",
     "metadata": {},
     "outputs": []
    },
    {
     "cell_type": "code",
     "collapsed": false,
     "input": [
      "schrod_h = simplify(phi_prime_prime - (xi**2-K)*phi_sub)\n",
      "schrod_h"
     ],
     "language": "python",
     "metadata": {},
     "outputs": []
    },
    {
     "cell_type": "markdown",
     "metadata": {},
     "source": [
      "We can now solve the simpler differential equation without the exponential part."
     ]
    },
    {
     "cell_type": "code",
     "collapsed": false,
     "input": [
      "schrod_h_simp = simplify(schrod_h * exp(xi**2/2))\n",
      "schrod_h_simp"
     ],
     "language": "python",
     "metadata": {},
     "outputs": []
    },
    {
     "cell_type": "code",
     "collapsed": false,
     "input": [
      "j, n = symbols('j n', integer=True)\n",
      "schrod_series = schrod_h_simp.subs(h(xi), Sum(f(j)*xi**j,(j,0,oo)))\n",
      "schrod_series"
     ],
     "language": "python",
     "metadata": {},
     "outputs": []
    },
    {
     "cell_type": "code",
     "collapsed": false,
     "input": [
      "schrod_series.doit()"
     ],
     "language": "python",
     "metadata": {},
     "outputs": []
    },
    {
     "cell_type": "markdown",
     "metadata": {},
     "source": [
      "Now we can read off the coefficient of $\\xi^j$ which gives a recursive expression for $f(j)$."
     ]
    },
    {
     "cell_type": "code",
     "collapsed": false,
     "input": [
      "schrod_recursive = Eq((j+1)*(j+2)*f(j+2) - 2*j*f(j) + (K - 1) * f(j),0)\n",
      "schrod_recursive"
     ],
     "language": "python",
     "metadata": {},
     "outputs": []
    },
    {
     "cell_type": "code",
     "collapsed": false,
     "input": [
      "Eq(f(j+2),solve(schrod_recursive, f(j+2))[0])"
     ],
     "language": "python",
     "metadata": {},
     "outputs": []
    },
    {
     "cell_type": "markdown",
     "metadata": {},
     "source": [
      "This defines a recursive relation for the coefficients of the power series solution which depends on the two arbitrary constants $f(0)$ and $f(1)$.  In order for our soution to be normalizable, we must require that the series truncates, and so $f(n) = 0$ for some finite $n$ and also that $f(0) = 0$ for $n$ odd and $f(1) = 0$ for $n$ even.  We therefore find that $K = 2n+1$ and so\n",
      "$$ E_n = \\left( n+\\frac{1}{2}\\right) \\hbar \\omega \\, $$\n",
      "With this choice of $K$, we have\n",
      "$$ f(j+2) = \\frac{-2(n-j)}{(j+1)(j+2)}f(j) $$"
     ]
    },
    {
     "cell_type": "code",
     "collapsed": false,
     "input": [
      "def h_sol(n):\n",
      "    g = symbols('g', cls=Function)\n",
      "    F = 0\n",
      "    if n % 2 == 0:\n",
      "        F = c\n",
      "        g = F\n",
      "        for j in range (2, n+1, 2):\n",
      "            F *= S(-2)*(n-(j-2))/((j-1)*j)\n",
      "            g += F*xi**j\n",
      "    else:\n",
      "        F = c\n",
      "        g = F*xi\n",
      "        for j in range (3, n+1, 2):\n",
      "            F *= S(-2)*(n-(j-2))/((j-1)*j)\n",
      "            g += F*xi**j\n",
      "    return g"
     ],
     "language": "python",
     "metadata": {},
     "outputs": []
    },
    {
     "cell_type": "code",
     "collapsed": false,
     "input": [
      "h_sol(5)"
     ],
     "language": "python",
     "metadata": {},
     "outputs": []
    },
    {
     "cell_type": "markdown",
     "metadata": {},
     "source": [
      "Finally, we arrive at the wavefunctions for the stationary states of the quantum harmonic oscillator."
     ]
    },
    {
     "cell_type": "code",
     "collapsed": false,
     "input": [
      "phi_sol = h_sol(5)*exp(-xi**2/2)\n",
      "phi_sol"
     ],
     "language": "python",
     "metadata": {},
     "outputs": []
    },
    {
     "cell_type": "code",
     "collapsed": false,
     "input": [
      "norm_c = solve(integrate(phi_sol**2, (xi, -oo, oo))-1,c)[1]\n",
      "norm_c"
     ],
     "language": "python",
     "metadata": {},
     "outputs": []
    },
    {
     "cell_type": "code",
     "collapsed": false,
     "input": [
      "norm_phi_sol = simplify(phi_sol.subs(c, norm_c))\n",
      "norm_phi_sol"
     ],
     "language": "python",
     "metadata": {},
     "outputs": []
    },
    {
     "cell_type": "code",
     "collapsed": false,
     "input": [
      "for i in range(0,6):\n",
      "    phi_sol = h_sol(i)*exp(-xi**2/2)\n",
      "    norm_c = solve(integrate(phi_sol**2, (xi, -oo, oo))-1,c)[1]\n",
      "    norm_phi_sol = simplify(phi_sol.subs(c, norm_c))\n",
      "    p1 = plot(norm_phi_sol, norm_phi_sol**2, (xi, -5, 5))"
     ],
     "language": "python",
     "metadata": {},
     "outputs": []
    },
    {
     "cell_type": "code",
     "collapsed": false,
     "input": [],
     "language": "python",
     "metadata": {},
     "outputs": []
    }
   ],
   "metadata": {}
  }
 ]
}